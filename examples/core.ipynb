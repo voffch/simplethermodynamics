{
 "cells": [
  {
   "cell_type": "markdown",
   "id": "0404e18e",
   "metadata": {},
   "source": [
    "# simplethermodynamics\n",
    "\n",
    "A demonstration of the core features of the package: defining Phases, packing them into Compounds, and assembling ThermodynamicDatabases."
   ]
  },
  {
   "cell_type": "code",
   "execution_count": 1,
   "id": "e91e859e",
   "metadata": {},
   "outputs": [],
   "source": [
    "try:\n",
    "    # if the package has already been installed\n",
    "    from simplethermodynamics import Phase, Compound, ThermodynamicDatabase\n",
    "except ModuleNotFoundError:\n",
    "    try:\n",
    "        # if not installed and the examples are running from the package folder\n",
    "        import sys\n",
    "        sys.path.append('..')\n",
    "        from simplethermodynamics import Phase, Compound, ThermodynamicDatabase\n",
    "    except ModuleNotFoundError:\n",
    "        try:\n",
    "            # if the examples are running in Google Colab\n",
    "            import google.colab\n",
    "            !pip install \"simplethermodynamics @ git+https://github.com/voffch/simplethermodynamics@master\"\n",
    "            from simplethermodynamics import Phase, Compound, ThermodynamicDatabase\n",
    "        except:\n",
    "            # this shouldn't happen, so print the error message\n",
    "            print(\"Cannot import simplethermodynamics; check the package installation and this file's path\", \n",
    "                  file=sys.stderr)"
   ]
  },
  {
   "cell_type": "code",
   "execution_count": 2,
   "id": "98807a37",
   "metadata": {},
   "outputs": [],
   "source": [
    "from sympy import Symbol, log, Piecewise\n",
    "import numpy as np"
   ]
  },
  {
   "cell_type": "markdown",
   "id": "897bd85d",
   "metadata": {},
   "source": [
    "## Basic example: a couple of Phases and a Compound\n",
    "\n",
    "The Gibbs functions for Fe for this example were calculated from the [Gurvich tables](http://www.chem.msu.su/rus/tsiv/Fe/welcome.html) (Thermodynamic properties of individual substances).\n",
    "\n",
    "Note that here, as in the original data, solid and liquid phases are defined together as one \"condensed\" phase."
   ]
  },
  {
   "cell_type": "code",
   "execution_count": 3,
   "id": "b3c2d27e",
   "metadata": {},
   "outputs": [],
   "source": [
    "# defining the Phases\n",
    "# Gibbs function as a string\n",
    "fe_sl = Phase('solid,liquid', 'solid,liquid', g='-T*Piecewise((9.166e-9*T**3 - 3.17643333333e-5*T**2 + 0.0685965*T - 6.749*log(0.0001*T) - 20.5578483453 - 3369.02213525/T + 220950.0/T**2, (T >= 298.15) & (T < 800.0)), (1.91742608333e-6*T**3 - 0.0125532551667*T**2 + 43.8405795*T - 38217.381*log(0.0001*T) - 105954.823394 - 16661850.0395/T + 1450984000.0/T**2, T < 1042.0), (-0.00217531033333*T**2 + 19.804755*T - 33783.834*log(0.0001*T) - 73362.2636102 - 25681081.3856/T + 3661585750.0/T**2, T < 1184.0), (0.004142*T + 24.267*log(0.0001*T) + 93.7664837826 - 4538.384448/T, T < 1665.0), (0.005021*T + 24.393*log(0.0001*T) + 91.4437916719 - 2732.313275/T, T < 1809.0), (46.0*log(0.0001*T) + 132.575174684 + 6123.0/T, T < 5000.0), (0, True)) - 4506.0')\n",
    "# Gibbs function as a SymPy expression\n",
    "T = Symbol('T')\n",
    "fe_g_g = -T*Piecewise((-2.70719177246e-10*T**3 + 2.55359771729e-6*T**2 - 0.0118340270996*T + 34.3188095093*log(0.0001*T) + 271.590881348 + 3310.39130688/T - 127031.374723/T**2, (T >= 298.15) & (T < 1500.0)), (-6.07623386383e-12*T**3 + 1.90518684387e-7*T**2 - 0.000907385253906*T + 23.4647369385*log(0.0001*T) + 241.031799316 + 936.141014099/T - 1062649.48845/T**2, T < 10000.0), (0, True)) + 407150.0\n",
    "fe_g = Phase('gas', 'gas', g=fe_g_g)"
   ]
  },
  {
   "cell_type": "code",
   "execution_count": 4,
   "id": "967cef52",
   "metadata": {},
   "outputs": [
    {
     "name": "stdout",
     "output_type": "stream",
     "text": [
      "Compound 'iron' contains 2 phases: solid,liquid (solid,liquid), gas (gas)\n"
     ]
    }
   ],
   "source": [
    "# defining the Compound\n",
    "# takes some time because of the phase transition data calculations\n",
    "fe = Compound('iron', [fe_sl, fe_g], 'Gurvich')\n",
    "print(fe)"
   ]
  },
  {
   "cell_type": "code",
   "execution_count": 5,
   "id": "b4ee7a4d",
   "metadata": {},
   "outputs": [
    {
     "data": {
      "text/plain": [
       "[{'t': 298.15, 'name': 'solid,liquid'},\n",
       " {'t': 3124.7327706443084, 'name': 'gas'}]"
      ]
     },
     "execution_count": 5,
     "metadata": {},
     "output_type": "execute_result"
    }
   ],
   "source": [
    "fe.transitions"
   ]
  },
  {
   "cell_type": "code",
   "execution_count": 6,
   "id": "55f238de",
   "metadata": {},
   "outputs": [
    {
     "data": {
      "text/plain": [
       "[{'from': 'solid,liquid',\n",
       "  'to': 'gas',\n",
       "  't': 3124.7327706443084,\n",
       "  't/C': 2851.5827706443083,\n",
       "  'dh': 348134.1940467397,\n",
       "  'ds': 111.41246926138624,\n",
       "  'dcp': -19.486921240777836}]"
      ]
     },
     "execution_count": 6,
     "metadata": {},
     "output_type": "execute_result"
    }
   ],
   "source": [
    "# takes some time because different thermodynamic functions of the phases should be calculated\n",
    "fe.transition_thermodynamics"
   ]
  },
  {
   "cell_type": "code",
   "execution_count": 7,
   "id": "e089ff13",
   "metadata": {},
   "outputs": [
    {
     "name": "stdout",
     "output_type": "stream",
     "text": [
      "Compound: iron\n",
      "Formula: iron\n",
      "Compound 'iron' contains 2 phases: solid,liquid (solid,liquid), gas (gas)\n",
      "\n",
      "Standard state transitions at 1 atm (per mol):\n",
      "____________________\t________\t________\t____________\t________\t________\n",
      "               Trans\t    T(K)\t    T(C)\t       ΔH(J)\t ΔS(J/K)\tΔCp(J/K)\n",
      "____________________\t________\t________\t____________\t________\t________\n",
      " solid,liquid -> gas\t 3124.73\t 2851.58\t    348134.2\t 111.412\t -19.487\n",
      "\n",
      "Phase: stable\n",
      "State: solid,liquid,gas\n",
      "________\t________\t___________\t___________\t________\t___________\n",
      "  T(K)  \tCp(J/K) \t    H(J)   \t   G(J)    \t S(J/K) \t H-H298(J)\n",
      "________\t________\t___________\t___________\t________\t___________\n",
      "  298.15\t  25.100\t       -0.0\t    -8145.5\t  27.320\t        0.0\n",
      "  300.00\t  25.136\t       46.5\t    -8196.1\t  27.475\t       46.5\n",
      "  400.00\t  27.436\t     2672.2\t   -11333.1\t  35.013\t     2672.2\n",
      "  500.00\t  29.718\t     5531.4\t   -15160.5\t  41.384\t     5531.4\n",
      "  600.00\t  31.942\t     8613.4\t   -19584.7\t  46.997\t     8613.4\n",
      "  700.00\t  34.528\t    11931.7\t   -24543.1\t  52.107\t    11931.7\n",
      "  800.00\t  38.037\t    15550.0\t   -29996.3\t  56.933\t    15550.0\n",
      "  900.00\t  43.162\t    19585.4\t   -35926.3\t  61.680\t    19585.4\n",
      " 1000.00\t  55.328\t    24342.5\t   -42338.8\t  66.681\t    24342.5\n",
      " 1100.00\t  46.082\t    30006.8\t   -49294.6\t  72.092\t    30006.8\n",
      " 1200.00\t  34.208\t    35117.3\t   -56709.0\t  76.522\t    35117.3\n",
      " 1300.00\t  35.036\t    38579.5\t   -64501.0\t  79.293\t    38579.5\n",
      " 1400.00\t  35.865\t    42124.5\t   -72562.7\t  81.919\t    42124.5\n",
      " 1500.00\t  36.693\t    45752.4\t   -80880.7\t  84.422\t    45752.4\n",
      " 1600.00\t  37.521\t    49463.1\t   -89443.5\t  86.817\t    49463.1\n",
      " 1700.00\t  41.464\t    54205.1\t   -98259.1\t  89.685\t    54205.1\n",
      " 1800.00\t  42.469\t    58401.8\t  -107348.2\t  92.083\t    58401.8\n",
      " 1900.00\t  46.000\t    76771.0\t  -117373.9\t 102.182\t    76771.0\n",
      " 2000.00\t  46.000\t    81371.0\t  -127711.1\t 104.541\t    81371.0\n"
     ]
    }
   ],
   "source": [
    "# takes some time because thermodynamics of the stable phase should be calculated\n",
    "fe.table()"
   ]
  },
  {
   "cell_type": "code",
   "execution_count": 8,
   "id": "84f8a990",
   "metadata": {},
   "outputs": [
    {
     "data": {
      "image/png": "[encoded data removed]",
      "text/plain": [
       "<Figure size 640x480 with 1 Axes>"
      ]
     },
     "metadata": {},
     "output_type": "display_data"
    },
    {
     "data": {
      "image/png": "[encoded data removed]",
      "text/plain": [
       "<Figure size 640x480 with 1 Axes>"
      ]
     },
     "metadata": {},
     "output_type": "display_data"
    }
   ],
   "source": [
    "# this is fast because all the necessary thermodynamic functions were calculated already\n",
    "fe.plot('cp', 298.15, 4000)\n",
    "fe['solid,liquid'].plot('s', 298.15, 2000)"
   ]
  },
  {
   "cell_type": "code",
   "execution_count": 9,
   "id": "9245c161",
   "metadata": {},
   "outputs": [
    {
     "name": "stdout",
     "output_type": "stream",
     "text": [
      "-467765.10784466716 -372332.2040711554\n"
     ]
    }
   ],
   "source": [
    "print(fe['gas'].g(4000), fe['solid,liquid'].g(4000))"
   ]
  },
  {
   "cell_type": "markdown",
   "id": "df1d8023",
   "metadata": {},
   "source": [
    "## More complex example: creating a small database\n",
    "\n",
    "In this section, we're making a \"database\" for the [Thermodynamics of rare earth sesquioxides](https://doi.org/10.1016/j.pmatsci.2006.09.002) from the Gibbs function data presented by Matvei Zinkevich in the referenced paper in Table 6.2.\n",
    "\n",
    "And then we'll dump the \"database\" into the JSON file, read it back, and use it in some calculations.\n",
    "\n",
    "The overall structure of the \"database\" JSON will look like this:\n",
    "\n",
    "```json\n",
    "\"compounds\" : [{\n",
    "\t\"name\" : string,\n",
    "\t\"formula\": string,\n",
    "\t\"phases\" : [{\n",
    "\t\t\"name\" : string,\n",
    "        \"state\" : string,\n",
    "\t\t\"g\" : string (symbolic string)\n",
    "\t\t\"cp\" : string (symbolic string)\n",
    "        \"h\" : string (symbolic string)\n",
    "        \"s\" : string (symbolic string)\n",
    "\t}],\n",
    "\t\"stable\" : {\n",
    "\t\t\"name\" : \"stable\",\n",
    "        \"state\" : \"all\",\n",
    "\t\t\"g\" : string (symbolic string)\n",
    "\t\t\"cp\" : string (symbolic string)\n",
    "        \"h\" : string (symbolic string)\n",
    "        \"s\" : string (symbolic string)\n",
    "\t}\n",
    "\t\"transitions\" : [ {\"t\" : number, \"name\": string} ],\n",
    "\t\"info\" : string\n",
    "}],\n",
    "\"info\" : string\n",
    "```\n",
    "\n",
    "Note to self: I should probably think about creating a JSON Schema (see [here](https://www.mongodb.com/basics/json-schema-examples) or [here](https://json-schema.org/learn/getting-started-step-by-step.html)) for this thing."
   ]
  },
  {
   "cell_type": "code",
   "execution_count": 10,
   "id": "c8f6cca7",
   "metadata": {},
   "outputs": [
    {
     "name": "stdout",
     "output_type": "stream",
     "text": [
      "16 Oxides parsed\n"
     ]
    }
   ],
   "source": [
    "# parsing the data table and extracting the Gibbs function data for the respective phases\n",
    "\n",
    "def zinkevich_g(a, b, c, d, e, f):\n",
    "    T = Symbol('T')\n",
    "    return a + b*T + c*T*log(T) + d*T**2 + e*T**(-1) + f*T**(-2)\n",
    "\n",
    "zinkevich_table = '''C-Sc2O3\t-1955472\t751.4893\t-120.843\t-0.004227\t1826000\t-5.2e7\n",
    "C-Y2O3\t-1976462\t731.6512\t-121.881\t-0.005060\t1090000\t-1.3e7\n",
    "A-La2O3\t-1833257\t692.9664\t-120.629\t-0.006854\t808000\t-1.0e7\n",
    "A-Ce2O3\t-1832858\t667.3306\t-119.855\t-0.012155\t546000\t0\n",
    "A-Pr2O3\t-1851548\t683.3800\t-122.780\t-0.012360\t638000\t-1.0e7\n",
    "A-Nd2O3\t-1847329\t637.4243\t-116.358\t-0.014677\t711000\t-1.0e7\n",
    "C-Sm2O3\t-1875835\t780.6356\t-135.618\t-0.006896\t1191000\t0\n",
    "B-Sm2O3\t-1871213\t751.7711\t-132.137\t-0.008367\t1405000\t-4.0e7\n",
    "C-Eu2O3\t-1701762\t774.5807\t-133.819\t-0.009091\t667000\t0\n",
    "B-Eu2O3\t-1693456\t732.3929\t-128.827\t-0.010086\t559000\t0\n",
    "C-Gd2O3\t-1868812\t660.0623\t-119.1688\t-0.006438\t772000\t0\n",
    "B-Gd2O3\t-1858111\t620.0992\t-114.534\t-0.007203\t540000\t0\n",
    "C-Tb2O3\t-1903004\t640.3000\t-117.520\t-0.012240\t250000\t0\n",
    "C-Dy2O3\t-1902316\t679.1313\t-122.593\t-0.006971\t59000\t4.0e7\n",
    "C-Ho2O3\t-1921338\t654.7487\t-120.347\t-0.005998\t91000\t3.0e7\n",
    "C-Er2O3\t-1939714\t652.6562\t-119.216\t-0.005889\t428000\t2.0e7\n",
    "C-Tm2O3\t-1927401\t680.6164\t-121.506\t-0.005899\t0\t4.0e7\n",
    "C-Yb2O3\t-1853511\t702.7502\t-123.821\t-0.004567\t0\t5.0e7\n",
    "C-Lu2O3\t-1920290\t710.2224\t-120.356\t-0.004579\t1144000\t-2.0e7'''\n",
    "\n",
    "zinkevich_oxides = {}\n",
    "for line in zinkevich_table.splitlines():\n",
    "    cells = line.split()\n",
    "    ph, fo = cells[0].split('-') # phase and formula strings\n",
    "    g = zinkevich_g(*[float(x) for x in cells[1:]])\n",
    "    if fo in zinkevich_oxides:\n",
    "        zinkevich_oxides[fo][ph] = Phase(ph, 'solid', g=g)\n",
    "    else:\n",
    "        zinkevich_oxides[fo] = {ph : Phase(ph, 'solid', g=g)}\n",
    "\n",
    "print(len(zinkevich_oxides), 'Oxides parsed')"
   ]
  },
  {
   "cell_type": "code",
   "execution_count": 11,
   "id": "7bc692f2",
   "metadata": {},
   "outputs": [],
   "source": [
    "# creating the Compound instances from the parsed data and storing them in the database\n",
    "\n",
    "zinkevich_compounds = {oxide : Compound(oxide, phases) for oxide, phases in zinkevich_oxides.items()}\n",
    "info = 'Zinkevich, Thermodynamics of rare earth sesquioxides, https://doi.org/10.1016/j.pmatsci.2006.09.002'\n",
    "db = ThermodynamicDatabase(zinkevich_compounds, info)\n",
    "db.dump('Zinkevich_R2O3.json')"
   ]
  },
  {
   "cell_type": "code",
   "execution_count": 12,
   "id": "01a2e0b5",
   "metadata": {},
   "outputs": [
    {
     "data": {
      "text/plain": [
       "'Zinkevich, Thermodynamics of rare earth sesquioxides, https://doi.org/10.1016/j.pmatsci.2006.09.002'"
      ]
     },
     "execution_count": 12,
     "metadata": {},
     "output_type": "execute_result"
    }
   ],
   "source": [
    "# reading the database back\n",
    "\n",
    "db = ThermodynamicDatabase('Zinkevich_R2O3.json')\n",
    "db.info"
   ]
  },
  {
   "cell_type": "code",
   "execution_count": 13,
   "id": "f49b2c05",
   "metadata": {},
   "outputs": [
    {
     "data": {
      "text/plain": [
       "{'Sc2O3': ['C'],\n",
       " 'Y2O3': ['C'],\n",
       " 'La2O3': ['A'],\n",
       " 'Ce2O3': ['A'],\n",
       " 'Pr2O3': ['A'],\n",
       " 'Nd2O3': ['A'],\n",
       " 'Sm2O3': ['C', 'B'],\n",
       " 'Eu2O3': ['C', 'B'],\n",
       " 'Gd2O3': ['C', 'B'],\n",
       " 'Tb2O3': ['C'],\n",
       " 'Dy2O3': ['C'],\n",
       " 'Ho2O3': ['C'],\n",
       " 'Er2O3': ['C'],\n",
       " 'Tm2O3': ['C'],\n",
       " 'Yb2O3': ['C'],\n",
       " 'Lu2O3': ['C']}"
      ]
     },
     "execution_count": 13,
     "metadata": {},
     "output_type": "execute_result"
    }
   ],
   "source": [
    "# what compounds and phases are there?\n",
    "\n",
    "{x : [y for y in db[x].phases] for x in db.compounds}"
   ]
  },
  {
   "cell_type": "code",
   "execution_count": 14,
   "id": "2e5025a7",
   "metadata": {},
   "outputs": [
    {
     "name": "stdout",
     "output_type": "stream",
     "text": [
      "Compound: Sm2O3\n",
      "Formula: Sm2O3\n",
      "Compound 'Sm2O3' contains 2 phases: C (solid), B (solid)\n",
      "\n",
      "Standard state transitions at 1 atm (per mol):\n",
      "_______\t________\t________\t____________\t________\t________\n",
      "  Trans\t    T(K)\t    T(C)\t       ΔH(J)\t ΔS(J/K)\tΔCp(J/K)\n",
      "_______\t________\t________\t____________\t________\t________\n",
      " C -> B\t  676.01\t  402.86\t      3311.6\t   4.899\t  -1.652\n"
     ]
    },
    {
     "data": {
      "image/png": "[encoded data removed]",
      "text/plain": [
       "<Figure size 640x480 with 1 Axes>"
      ]
     },
     "metadata": {},
     "output_type": "display_data"
    }
   ],
   "source": [
    "# which phase transitions are there in Sm2O3?..\n",
    "# ..and plotting the heat capacity of Sm2O3 around the phase transition\n",
    "db['Sm2O3'].table(transitions_only = True)\n",
    "db['Sm2O3'].plot('cp', 500, 800)"
   ]
  },
  {
   "cell_type": "code",
   "execution_count": 15,
   "id": "a390902f",
   "metadata": {},
   "outputs": [
    {
     "data": {
      "text/plain": [
       "76811.62541647768"
      ]
     },
     "execution_count": 15,
     "metadata": {},
     "output_type": "execute_result"
    }
   ],
   "source": [
    "# what is the enthalpy increment of Y2O3 between some temperatures?\n",
    "db['Y2O3'].h(933.48) - db['Y2O3'].h(298.15)"
   ]
  },
  {
   "cell_type": "code",
   "execution_count": 16,
   "id": "144ed56f",
   "metadata": {},
   "outputs": [
    {
     "name": "stdout",
     "output_type": "stream",
     "text": [
      "Compound: Gd2O3\n",
      "Formula: Gd2O3\n",
      "Compound 'Gd2O3' contains 2 phases: C (solid), B (solid)\n",
      "\n",
      "Standard state transitions at 1 atm (per mol):\n",
      "_______\t________\t________\t____________\t________\t________\n",
      "  Trans\t    T(K)\t    T(C)\t       ΔH(J)\t ΔS(J/K)\tΔCp(J/K)\n",
      "_______\t________\t________\t____________\t________\t________\n",
      " C -> B\t 1424.84\t 1151.69\t      5324.6\t   3.737\t  -2.226\n",
      "\n",
      "Phase: stable\n",
      "State: solid\n",
      "________\t________\t___________\t___________\t________\t___________\n",
      "  T(K)  \tCp(J/K) \t    H(J)   \t   G(J)    \t S(J/K) \t H-H298(J)\n",
      "________\t________\t___________\t___________\t________\t___________\n",
      "  298.15\t 105.639\t -1827530.9\t -1872434.0\t 150.606\t        0.0\n",
      "  300.00\t 105.876\t -1827335.3\t -1872713.3\t 151.260\t      195.7\n",
      "  400.00\t 114.669\t -1816254.4\t -1889485.4\t 183.078\t    11276.5\n",
      "  500.00\t 119.431\t -1804530.1\t -1909140.0\t 209.220\t    23000.8\n",
      "  600.00\t 122.606\t -1792419.7\t -1931194.3\t 231.291\t    35111.2\n",
      "  700.00\t 125.031\t -1780033.5\t -1955299.2\t 250.380\t    47497.4\n",
      "  800.00\t 127.057\t -1767426.6\t -1981195.2\t 267.211\t    60104.3\n",
      "  900.00\t 128.851\t -1754629.7\t -2008682.8\t 282.281\t    72901.2\n",
      " 1000.00\t 130.501\t -1741661.2\t -2037604.6\t 295.943\t    85869.7\n",
      " 1100.00\t 132.056\t -1728532.7\t -2067833.2\t 308.455\t    98998.2\n",
      " 1200.00\t 133.548\t -1715252.1\t -2099263.8\t 320.010\t   112278.9\n",
      " 1300.00\t 134.994\t -1701824.6\t -2131808.3\t 330.757\t   125706.3\n",
      " 1400.00\t 136.407\t -1688254.3\t -2165392.1\t 340.813\t   139276.6\n",
      " 1500.00\t 135.663\t -1669383.2\t -2200227.5\t 353.896\t   158147.7\n"
     ]
    }
   ],
   "source": [
    "# tabulating the thermodynamics of Gd2O3\n",
    "db['Gd2O3'].table(300, 1600, 100)"
   ]
  },
  {
   "cell_type": "code",
   "execution_count": 17,
   "id": "2097695d",
   "metadata": {},
   "outputs": [
    {
     "data": {
      "text/latex": [
       "$\\displaystyle \\begin{cases} 0.012876 T + 119.1688 - \\frac{1544000.0}{T^{2}} & \\text{for}\\: T \\leq 1424.83901765472 \\\\0.014406 T + 114.534 - \\frac{1080000.0}{T^{2}} & \\text{otherwise} \\end{cases}$"
      ],
      "text/plain": [
       "Piecewise((0.012876*T + 119.1688 - 1544000.0/T**2, T <= 1424.83901765472), (0.014406*T + 114.534 - 1080000.0/T**2, True))"
      ]
     },
     "execution_count": 17,
     "metadata": {},
     "output_type": "execute_result"
    }
   ],
   "source": [
    "# getting the symbolic functions for Cp of Gd2O3...\n",
    "db['Gd2O3'].symbolic.cp"
   ]
  },
  {
   "cell_type": "code",
   "execution_count": 18,
   "id": "0221bb39",
   "metadata": {},
   "outputs": [
    {
     "data": {
      "text/latex": [
       "$\\displaystyle 0.012876 T + 119.1688 - \\frac{1544000.0}{T^{2}}$"
      ],
      "text/plain": [
       "0.012876*T + 119.1688 - 1544000.0/T**2"
      ]
     },
     "execution_count": 18,
     "metadata": {},
     "output_type": "execute_result"
    }
   ],
   "source": [
    "# ...and for the constituting phases\n",
    "db['Gd2O3']['C'].symbolic.cp"
   ]
  },
  {
   "cell_type": "code",
   "execution_count": 19,
   "id": "31f315bc",
   "metadata": {},
   "outputs": [
    {
     "data": {
      "text/latex": [
       "$\\displaystyle 0.014406 T + 114.534 - \\frac{1080000.0}{T^{2}}$"
      ],
      "text/plain": [
       "0.014406*T + 114.534 - 1080000.0/T**2"
      ]
     },
     "execution_count": 19,
     "metadata": {},
     "output_type": "execute_result"
    }
   ],
   "source": [
    "db['Gd2O3']['B'].symbolic.cp"
   ]
  },
  {
   "cell_type": "code",
   "execution_count": 20,
   "id": "4f9f8b2c",
   "metadata": {},
   "outputs": [
    {
     "name": "stdout",
     "output_type": "stream",
     "text": [
      "T / K\tS / (J/mol/K)\n",
      "300.0\t128.05\n",
      "320.0\t135.16\n",
      "340.0\t141.94\n",
      "360.0\t148.44\n",
      "380.0\t154.66\n",
      "400.0\t160.63\n",
      "420.0\t166.36\n",
      "440.0\t171.87\n",
      "460.0\t177.19\n",
      "480.0\t182.31\n",
      "500.0\t187.25\n",
      "520.0\t192.03\n",
      "540.0\t196.65\n",
      "560.0\t201.13\n",
      "580.0\t205.48\n",
      "600.0\t209.69\n",
      "620.0\t213.79\n",
      "640.0\t217.77\n",
      "660.0\t221.65\n",
      "680.0\t225.42\n",
      "700.0\t229.10\n"
     ]
    }
   ],
   "source": [
    "# getting the entropy of La2O3 for a number of temperatures in a numpy array\n",
    "temps = np.arange(300, 720, 20)\n",
    "sLa2O3 = db['La2O3'].s(temps)\n",
    "print('T / K\\tS / (J/mol/K)')\n",
    "for t, s in zip(temps, sLa2O3):\n",
    "    print(f'{t:.1f}\\t{s:.2f}')"
   ]
  },
  {
   "cell_type": "code",
   "execution_count": null,
   "id": "0305944e",
   "metadata": {},
   "outputs": [],
   "source": []
  }
 ],
 "metadata": {
  "kernelspec": {
   "display_name": "Python 3 (ipykernel)",
   "language": "python",
   "name": "python3"
  },
  "language_info": {
   "codemirror_mode": {
    "name": "ipython",
    "version": 3
   },
   "file_extension": ".py",
   "mimetype": "text/x-python",
   "name": "python",
   "nbconvert_exporter": "python",
   "pygments_lexer": "ipython3",
   "version": "3.8.10"
  },
  "vscode": {
   "interpreter": {
    "hash": "570feb405e2e27c949193ac68f46852414290d515b0ba6e5d90d076ed2284471"
   }
  }
 },
 "nbformat": 4,
 "nbformat_minor": 5
}
